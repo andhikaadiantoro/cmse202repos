{
 "cells": [
  {
   "cell_type": "markdown",
   "metadata": {
    "id": "sZo2GOWfRSys"
   },
   "source": [
    "### <p style=\"text-align: right;\"> &#9989; Andhika Adiantoro.</p>"
   ]
  },
  {
   "cell_type": "markdown",
   "metadata": {
    "id": "4zVGyBrZRSyt"
   },
   "source": [
    "# CMSE Homework 05\n",
    "\n",
    "## Using Tensorflow/Keras for classification\n",
    "\n",
    "\n",
    "### Assignment instructions\n",
    "\n",
    "Work through the following assignment, making sure to follow all of the directions and answer all of the questions.\n",
    "\n",
    "There are 25 points possible on this assignment. Point values for each part are included in the section headers.\n",
    "\n",
    "This assignment is due roughly two weeks from now at 11:59 pm on **Friday Dec. 4th**. It should be uploaded into the \"Homework Assignments\" submission folder for Homework #5 in your D2L webpage. Submission instructions can be found at the end of the notebook.\n",
    "\n",
    "**Hint**: It is possible you are asked to do something you are not familiar with. That's why you have internet access. Do some smart searches and see what you can find! \n",
    "\n",
    "### Goals for this homework assignment\n",
    "\n",
    "The goal for this assignment is for you to learn about neural network implemented by __Tensorflow__ and __Keras__ to do some basic classification tasks. Unless you already have experience with Tensorflow or Keras or similar libraries, you will not understand everything about this right away. You probably haven't even installed Tensorflow yet. Don't worry, that is perfectly fine. We will walk through one example in detail. So don't worry if some steps seem arbitrary or look like magic to you! We've got to start somewhere.\n",
    "\n",
    "[Tensorflow](https://www.tensorflow.org/) is a free and open-source software library for machine learning. It is one of the most popular software package for training and inference of deep neural networks. [Keras](https://keras.io/) is the high-level API of TensorFlow 2.0. \n",
    "\n",
    "\n",
    "To get started, you need to set up the required software. You can follow the detailed instruction from the [installation guide of Tensorflow](https://www.tensorflow.org/install) which also includes Keras. In most cases, you can simply type\n",
    "\n",
    "`pip install --upgrade tensorflow`\n",
    "\n",
    "Now you are ready for action!\n",
    "\n",
    "__Note__ Following the installation guide, you should have installed Tensorflow V2.3.1, and   Numpy should be downgraded to V1.18.5. If you have trouble with installation or you run into issues with dead kernels, please check the versions of the packages installed and asked for help during help hours!\n",
    "\n",
    "Below is the import for this assignement."
   ]
  },
  {
   "cell_type": "code",
   "execution_count": 1,
   "metadata": {
    "id": "PsfDA9gdRSyt"
   },
   "outputs": [],
   "source": [
    "## Our import\n",
    "import tensorflow as tf\n",
    "from tensorflow.keras.datasets import fashion_mnist\n",
    "from tensorflow.keras.datasets import mnist\n",
    "from tensorflow.keras.models import Sequential\n",
    "from tensorflow.keras.layers import Dense\n",
    "from tensorflow.keras.utils import to_categorical\n",
    "\n",
    "import numpy as np\n",
    "import pandas as pd\n",
    "import matplotlib.pyplot as plt\n",
    "%matplotlib inline\n"
   ]
  },
  {
   "cell_type": "markdown",
   "metadata": {
    "id": "7RSL1JOtRSyu"
   },
   "source": [
    "---\n",
    "## Part 1. Adding notebook to your turn-in repository\n",
    "\n",
    "Like you did for Homework 3, you're going to add it to the CMSE202 repository you created in class so that you can track your progress on the assignment and preserve the final version that you turn in. In order to do this you need to:\n",
    "\n",
    "* Navigate to your /CMSE202/repos repository and create a new directory called hw-05.\n",
    "* Move this notebook into that new directory in your repository, then add it and commit it to your repository.\n",
    "   * Finally, to test that everything is working, \"git push\" the file so that it ends up in your GitHub repository.\n",
    "\n",
    "Important: Make sure you've added your TA as a collaborators to your respository with \"Read\" access so that we can see your assignment. (*If you did this for Homework 3, you do not need to do it again*)\n",
    "\n",
    "* Section 001: tuethan\n",
    "* Section 002: Luis-Polanco\n",
    "* Section 003: DavidRimel\n",
    "\n",
    "Also important: Make sure that the version of this notebook that you are working on is the same one that you just added to your repository! If you are working on a different copy of the notebook, none of your changes will be tracked.\n",
    "\n",
    "If everything went as intended, the file should now show up on your GitHub account CMSE202 repository under the hw-04 directory that you just created. Periodically, you'll be asked to commit your changes to the repository and push them to the remote GitHub location. Of course, you can always commit your changes more often than that, if you wish. It can be good to get into a habit of committing your changes any time you make a significant modification, or when you stop working on the project for a bit."
   ]
  },
  {
   "cell_type": "markdown",
   "metadata": {
    "id": "zfhQ8_KgRSyu"
   },
   "source": [
    "## Part 2: Classifying MNIST data (6 points)\n",
    "\n",
    "\n",
    "We will now walk through a concrete example of a neural network, which makes use of  Keras to learn to classify hand-written digits.\n",
    "\n",
    "The problem we are trying to solve here is to classify grayscale images of handwritten digits (28 pixels by 28 pixels), into their 10 \n",
    "categories (0 to 9). The dataset we will use is the MNIST dataset, a classic dataset in the machine learning community, which has been \n",
    "around for almost as long as the field itself and has been very intensively studied. It's a set of 60,000 training images, plus 10,000 test \n",
    "images, assembled by the National Institute of Standards and Technology (the NIST in MNIST) in the 1980s. You can think of \"solving\" MNIST \n",
    "as the \"Hello World\" of deep learning -- it's what you do to verify that your algorithms are working as expected. As you become a machine \n",
    "learning practitioner, you will see MNIST come up over and over again, in scientific papers, blog posts, and so on.\n",
    "\n",
    "The MNIST dataset comes pre-loaded in Keras, in the form of a set of four Numpy arrays:\n",
    "\n"
   ]
  },
  {
   "cell_type": "code",
   "execution_count": 2,
   "metadata": {
    "id": "I_zX4-0gRSyu"
   },
   "outputs": [],
   "source": [
    "(train_images, train_labels), (test_images, test_labels)=mnist.load_data()"
   ]
  },
  {
   "cell_type": "markdown",
   "metadata": {
    "id": "dIbGW8KVRSyu"
   },
   "source": [
    "`train_images` and `train_labels` form the \"training set\", the data that the model will learn from. The model will then be tested on the \n",
    "\"test set\", `test_images` and `test_labels`. Our images are encoded as Numpy arrays, and the labels are simply an array of digits, ranging \n",
    "from 0 to 9. There is a one-to-one correspondence between the images and the labels.\n",
    "\n",
    "Let's have a look at the training data:"
   ]
  },
  {
   "cell_type": "code",
   "execution_count": 3,
   "metadata": {
    "colab": {
     "base_uri": "https://localhost:8080/"
    },
    "id": "wly0hirDRSyv",
    "outputId": "cf10d654-36c0-4e07-aa40-0f4f37277a99"
   },
   "outputs": [
    {
     "data": {
      "text/plain": [
       "(60000, 28, 28)"
      ]
     },
     "execution_count": 3,
     "metadata": {
      "tags": []
     },
     "output_type": "execute_result"
    }
   ],
   "source": [
    "train_images.shape\n"
   ]
  },
  {
   "cell_type": "code",
   "execution_count": 4,
   "metadata": {
    "colab": {
     "base_uri": "https://localhost:8080/"
    },
    "id": "R9vt-ujrRSyv",
    "outputId": "0a46eade-805f-4839-8432-cdbfa9824380",
    "scrolled": true
   },
   "outputs": [
    {
     "data": {
      "text/plain": [
       "60000"
      ]
     },
     "execution_count": 4,
     "metadata": {
      "tags": []
     },
     "output_type": "execute_result"
    }
   ],
   "source": [
    "len(train_labels)"
   ]
  },
  {
   "cell_type": "code",
   "execution_count": 5,
   "metadata": {
    "colab": {
     "base_uri": "https://localhost:8080/"
    },
    "id": "ay4-8K2URSyv",
    "outputId": "3fd80031-4de7-49e8-b29f-48a63bbe69c2"
   },
   "outputs": [
    {
     "data": {
      "text/plain": [
       "array([5, 0, 4, ..., 5, 6, 8], dtype=uint8)"
      ]
     },
     "execution_count": 5,
     "metadata": {
      "tags": []
     },
     "output_type": "execute_result"
    }
   ],
   "source": [
    "train_labels"
   ]
  },
  {
   "cell_type": "markdown",
   "metadata": {
    "id": "V3TQHKogRSyv"
   },
   "source": [
    "Let's have a look at the test data:"
   ]
  },
  {
   "cell_type": "code",
   "execution_count": 6,
   "metadata": {
    "colab": {
     "base_uri": "https://localhost:8080/"
    },
    "id": "hJSg269bRSyv",
    "outputId": "58270610-3e82-4b0d-85ca-70e5dc015130"
   },
   "outputs": [
    {
     "data": {
      "text/plain": [
       "(10000, 28, 28)"
      ]
     },
     "execution_count": 6,
     "metadata": {
      "tags": []
     },
     "output_type": "execute_result"
    }
   ],
   "source": [
    "test_images.shape"
   ]
  },
  {
   "cell_type": "code",
   "execution_count": 7,
   "metadata": {
    "colab": {
     "base_uri": "https://localhost:8080/"
    },
    "id": "m1_oIHH8RSyv",
    "outputId": "c0a55324-0df3-488a-ca34-f3ebd57852f3"
   },
   "outputs": [
    {
     "data": {
      "text/plain": [
       "10000"
      ]
     },
     "execution_count": 7,
     "metadata": {
      "tags": []
     },
     "output_type": "execute_result"
    }
   ],
   "source": [
    "len(test_labels)"
   ]
  },
  {
   "cell_type": "code",
   "execution_count": 8,
   "metadata": {
    "colab": {
     "base_uri": "https://localhost:8080/"
    },
    "id": "tIE-MsM7RSyv",
    "outputId": "1a2de946-b4f6-4066-f74d-0ac681f3eac2"
   },
   "outputs": [
    {
     "data": {
      "text/plain": [
       "array([7, 2, 1, ..., 4, 5, 6], dtype=uint8)"
      ]
     },
     "execution_count": 8,
     "metadata": {
      "tags": []
     },
     "output_type": "execute_result"
    }
   ],
   "source": [
    "test_labels"
   ]
  },
  {
   "cell_type": "markdown",
   "metadata": {
    "id": "V4Z-0WWrRSyv"
   },
   "source": [
    "**Question 2.1 (1 points)** What is the size of the training and testing dataset for MNIST, respectively?"
   ]
  },
  {
   "cell_type": "markdown",
   "metadata": {
    "id": "dtUklXe0RSyv"
   },
   "source": [
    "<font size=8 color=\"#009600\">&#9998;</font> Training = (60000, 28, 28)\n",
    "Testing = (10000, 28, 28)"
   ]
  },
  {
   "cell_type": "markdown",
   "metadata": {
    "id": "MwB1TI2CRSyv"
   },
   "source": [
    "**Question 2.2 (2 points)** Make a histogram for the training label. Is this dataset balanced?"
   ]
  },
  {
   "cell_type": "code",
   "execution_count": 9,
   "metadata": {
    "colab": {
     "base_uri": "https://localhost:8080/",
     "height": 335
    },
    "id": "6c7NP5niRSyv",
    "outputId": "b5ed5e0d-fd77-412b-f5aa-0ea10cd41d4c"
   },
   "outputs": [
    {
     "data": {
      "text/plain": [
       "(array([5923., 6742., 5958., 6131., 5842., 5421., 5918., 6265., 5851.,\n",
       "        5949.]),\n",
       " array([0. , 0.9, 1.8, 2.7, 3.6, 4.5, 5.4, 6.3, 7.2, 8.1, 9. ]),\n",
       " <a list of 10 Patch objects>)"
      ]
     },
     "execution_count": 9,
     "metadata": {
      "tags": []
     },
     "output_type": "execute_result"
    },
    {
     "data": {
      "image/png": "[encoded data removed]",
      "text/plain": [
       "<Figure size 432x288 with 1 Axes>"
      ]
     },
     "metadata": {
      "needs_background": "light",
      "tags": []
     },
     "output_type": "display_data"
    }
   ],
   "source": [
    "### Put your code here ###\n",
    "plt.hist(train_labels)"
   ]
  },
  {
   "cell_type": "markdown",
   "metadata": {
    "id": "tTNi7P77RSyw"
   },
   "source": [
    "We can also take a look at the individual images."
   ]
  },
  {
   "cell_type": "code",
   "execution_count": 10,
   "metadata": {
    "colab": {
     "base_uri": "https://localhost:8080/",
     "height": 282
    },
    "id": "-nWOYrH-RSyw",
    "outputId": "a9949e7b-dc56-40e3-e18d-8d30da2b50c9"
   },
   "outputs": [
    {
     "data": {
      "text/plain": [
       "1"
      ]
     },
     "execution_count": 10,
     "metadata": {
      "tags": []
     },
     "output_type": "execute_result"
    },
    {
     "data": {
      "image/png": "[encoded data removed]",
      "text/plain": [
       "<Figure size 432x288 with 1 Axes>"
      ]
     },
     "metadata": {
      "needs_background": "light",
      "tags": []
     },
     "output_type": "display_data"
    }
   ],
   "source": [
    "digit = train_images[6]\n",
    "plt.imshow(digit, cmap=plt.cm.binary)\n",
    "train_labels[6]"
   ]
  },
  {
   "cell_type": "markdown",
   "metadata": {
    "id": "-gd4i3DHRSyw"
   },
   "source": [
    "\n",
    "Before training, we will preprocess our data by reshaping it into the shape that the network expects, and scaling it so that all values are in \n",
    "the `[0, 1]` interval. Previously, our training images for instance were stored in an array of shape `(60000, 28, 28)` of type `uint8` with \n",
    "values in the `[0, 255]` interval. We transform it into a `float32` array of shape `(60000, 28 * 28)` with values between 0 and 1."
   ]
  },
  {
   "cell_type": "code",
   "execution_count": 11,
   "metadata": {
    "id": "eRcgMnfcRSyw"
   },
   "outputs": [],
   "source": [
    "train_images = train_images.reshape(train_images.shape[0],-1)/255.0\n",
    "test_images = test_images.reshape(test_images.shape[0],-1)/255.0"
   ]
  },
  {
   "cell_type": "markdown",
   "metadata": {
    "id": "H9tlFVT2RSyw"
   },
   "source": [
    "We also need to categorically encode the labels."
   ]
  },
  {
   "cell_type": "code",
   "execution_count": 12,
   "metadata": {
    "id": "1yrJg-I8RSyw"
   },
   "outputs": [],
   "source": [
    "train_labels = to_categorical(train_labels)\n",
    "test_labels = to_categorical(test_labels)"
   ]
  },
  {
   "cell_type": "markdown",
   "metadata": {
    "id": "1v5bT00ZRSyw"
   },
   "source": [
    "Let’s start our neural network models.\n",
    "\n",
    "\n",
    "\n",
    "<img src=\"https://miro.medium.com/max/1400/1*K0D3JOZJUTxX4Q-9CpiALw.jpeg\" width= 800><p style=\"text-align: right;\">\n",
    "\n"
   ]
  },
  {
   "cell_type": "markdown",
   "metadata": {
    "id": "6iszW1zCRSyw"
   },
   "source": [
    "Our workflow will be as follow: first we will present our neural network with the training data, `train_images` and `train_labels`. The \n",
    "network will then learn to associate images and labels. Finally, we will ask the network to produce predictions for `test_images`, and we \n",
    "will verify if these predictions match the labels from `test_labels`.\n",
    "\n",
    "Let's build our network.\n",
    "\n"
   ]
  },
  {
   "cell_type": "code",
   "execution_count": 13,
   "metadata": {
    "id": "uRI2RzY_RSyw"
   },
   "outputs": [],
   "source": [
    "network = Sequential()\n",
    "network.add(Dense(10, input_dim=784, activation='relu'))\n",
    "network.add(Dense(10, activation='softmax'))\n",
    "network.compile(optimizer='rmsprop',\n",
    "                loss='categorical_crossentropy',\n",
    "                metrics=['accuracy'])"
   ]
  },
  {
   "cell_type": "markdown",
   "metadata": {
    "id": "h4qUaDbDRSyw"
   },
   "source": [
    "The Sequential model is the easiest model Keras has. The first line of `model.add` method is adding your hidden layer with 10 cells, coming from 784 input cells.\n",
    "\n",
    "The second add method is adding your output layer to the network. This has 10 cells.\n",
    "\n",
    "The Relu and Softmax activation options are non-linear. Being able to use non-linear data makes Neural Network particularly useful. Generally, neural networks can map any data distribution at any level of complexity.\n",
    "You don’t have to know what Relu and Softmax are.  You just need to follow these tips:\n",
    "1. Use Relu whenever possible, on every hidden layer.\n",
    "2. Use Softmax on output layers with more than two categories to be predicted.\n",
    "3. Use Sigmoid on an output layer with two categories.\n",
    "\n",
    "After creating your model, call `compile` method to finish your model. It usually takes three parameters. Always use `categorical_crossentropy` for multi-categories, and `binary_crossentropy` for two categories. Use `adam` or `rmsprop` as the optimizer since both of them are pretty good. And you need accuracy as the `metric` to check your network performance."
   ]
  },
  {
   "cell_type": "markdown",
   "metadata": {
    "id": "FGRszQLZRSyw"
   },
   "source": [
    "We are now ready to train our network, which in Keras is done via a call to the `fit` method of the network: \n",
    "we \"fit\" the model to its training data.  We will use 10% of the training data as the validation data, hence validation_split was set to 0.1."
   ]
  },
  {
   "cell_type": "code",
   "execution_count": 14,
   "metadata": {
    "colab": {
     "base_uri": "https://localhost:8080/"
    },
    "id": "qTlXMjZjRSyw",
    "outputId": "beee2c35-6484-4779-fcc3-ef9010d8defa"
   },
   "outputs": [
    {
     "name": "stdout",
     "output_type": "stream",
     "text": [
      "Epoch 1/20\n",
      "1688/1688 [==============================] - 3s 2ms/step - loss: 0.5720 - accuracy: 0.8338 - val_loss: 0.2820 - val_accuracy: 0.9228\n",
      "Epoch 2/20\n",
      "1688/1688 [==============================] - 2s 1ms/step - loss: 0.3289 - accuracy: 0.9073 - val_loss: 0.2525 - val_accuracy: 0.9277\n",
      "Epoch 3/20\n",
      "1688/1688 [==============================] - 2s 1ms/step - loss: 0.3051 - accuracy: 0.9133 - val_loss: 0.2402 - val_accuracy: 0.9333\n",
      "Epoch 4/20\n",
      "1688/1688 [==============================] - 2s 1ms/step - loss: 0.2947 - accuracy: 0.9181 - val_loss: 0.2380 - val_accuracy: 0.9348\n",
      "Epoch 5/20\n",
      "1688/1688 [==============================] - 2s 1ms/step - loss: 0.2883 - accuracy: 0.9190 - val_loss: 0.2345 - val_accuracy: 0.9353\n",
      "Epoch 6/20\n",
      "1688/1688 [==============================] - 2s 1ms/step - loss: 0.2837 - accuracy: 0.9210 - val_loss: 0.2339 - val_accuracy: 0.9328\n",
      "Epoch 7/20\n",
      "1688/1688 [==============================] - 2s 1ms/step - loss: 0.2793 - accuracy: 0.9223 - val_loss: 0.2359 - val_accuracy: 0.9343\n",
      "Epoch 8/20\n",
      "1688/1688 [==============================] - 2s 1ms/step - loss: 0.2765 - accuracy: 0.9240 - val_loss: 0.2307 - val_accuracy: 0.9358\n",
      "Epoch 9/20\n",
      "1688/1688 [==============================] - 2s 1ms/step - loss: 0.2740 - accuracy: 0.9237 - val_loss: 0.2311 - val_accuracy: 0.9345\n",
      "Epoch 10/20\n",
      "1688/1688 [==============================] - 2s 1ms/step - loss: 0.2714 - accuracy: 0.9246 - val_loss: 0.2332 - val_accuracy: 0.9343\n",
      "Epoch 11/20\n",
      "1688/1688 [==============================] - 2s 1ms/step - loss: 0.2691 - accuracy: 0.9254 - val_loss: 0.2284 - val_accuracy: 0.9375\n",
      "Epoch 12/20\n",
      "1688/1688 [==============================] - 2s 1ms/step - loss: 0.2674 - accuracy: 0.9265 - val_loss: 0.2267 - val_accuracy: 0.9372\n",
      "Epoch 13/20\n",
      "1688/1688 [==============================] - 2s 1ms/step - loss: 0.2652 - accuracy: 0.9266 - val_loss: 0.2270 - val_accuracy: 0.9377\n",
      "Epoch 14/20\n",
      "1688/1688 [==============================] - 2s 1ms/step - loss: 0.2629 - accuracy: 0.9276 - val_loss: 0.2313 - val_accuracy: 0.9355\n",
      "Epoch 15/20\n",
      "1688/1688 [==============================] - 2s 1ms/step - loss: 0.2614 - accuracy: 0.9281 - val_loss: 0.2215 - val_accuracy: 0.9367\n",
      "Epoch 16/20\n",
      "1688/1688 [==============================] - 2s 1ms/step - loss: 0.2597 - accuracy: 0.9288 - val_loss: 0.2252 - val_accuracy: 0.9370\n",
      "Epoch 17/20\n",
      "1688/1688 [==============================] - 2s 1ms/step - loss: 0.2586 - accuracy: 0.9294 - val_loss: 0.2295 - val_accuracy: 0.9373\n",
      "Epoch 18/20\n",
      "1688/1688 [==============================] - 2s 1ms/step - loss: 0.2563 - accuracy: 0.9294 - val_loss: 0.2294 - val_accuracy: 0.9372\n",
      "Epoch 19/20\n",
      "1688/1688 [==============================] - 2s 1ms/step - loss: 0.2553 - accuracy: 0.9295 - val_loss: 0.2205 - val_accuracy: 0.9383\n",
      "Epoch 20/20\n",
      "1688/1688 [==============================] - 2s 1ms/step - loss: 0.2542 - accuracy: 0.9300 - val_loss: 0.2162 - val_accuracy: 0.9388\n"
     ]
    }
   ],
   "source": [
    "history=network.fit(train_images, train_labels, epochs=20,  validation_split=0.1)"
   ]
  },
  {
   "cell_type": "markdown",
   "metadata": {
    "id": "Nces1XWwRSyw"
   },
   "source": [
    "Four quantities are being displayed during training: the \"loss\" of the network over the training and validation data, and the accuracy of the network over \n",
    "the training and validation data.\n",
    "\n",
    "`epoch` is the number of training loops we will do. One epoch will expose all of our training data once to the network. More epochs means the network will know better about our data.\n",
    "\n",
    "We can plot a history of training and validation loss and accuracy."
   ]
  },
  {
   "cell_type": "code",
   "execution_count": 15,
   "metadata": {
    "colab": {
     "base_uri": "https://localhost:8080/",
     "height": 573
    },
    "id": "6kbCqu4tRSyw",
    "outputId": "db542942-c4d8-4d45-da37-ff8cf0203da2"
   },
   "outputs": [
    {
     "data": {
      "image/png": "[encoded data removed]",
      "text/plain": [
       "<Figure size 432x288 with 1 Axes>"
      ]
     },
     "metadata": {
      "needs_background": "light",
      "tags": []
     },
     "output_type": "display_data"
    },
    {
     "data": {
      "image/png": "[encoded data removed]",
      "text/plain": [
       "<Figure size 432x288 with 1 Axes>"
      ]
     },
     "metadata": {
      "needs_background": "light",
      "tags": []
     },
     "output_type": "display_data"
    }
   ],
   "source": [
    "plt.clf()   # clear figure\n",
    "\n",
    "loss = history.history['loss']\n",
    "val_loss = history.history['val_loss']\n",
    "\n",
    "epochs = range(1, len(loss) + 1)\n",
    "\n",
    "plt.plot(epochs, loss, 'bo', label='Training loss')\n",
    "plt.plot(epochs, val_loss, 'b', label='Validation loss')\n",
    "plt.title('Training and validation loss')\n",
    "plt.xlabel('Epochs')\n",
    "plt.ylabel('Loss')\n",
    "plt.legend()\n",
    "\n",
    "plt.show()\n",
    "\n",
    "acc = history.history['accuracy']\n",
    "val_acc = history.history['val_accuracy']\n",
    "epochs=range(1, len(acc)+1)\n",
    "\n",
    "plt.plot(epochs, acc, 'bo', label='Training acc')\n",
    "plt.plot(epochs, val_acc, 'b', label='Validation acc')\n",
    "plt.title('Training and validation accuracy')\n",
    "plt.xlabel('Epochs')\n",
    "plt.ylabel('Accuracy')\n",
    "plt.legend()\n",
    "\n",
    "plt.show()"
   ]
  },
  {
   "cell_type": "markdown",
   "metadata": {
    "id": "VdGhXKmJRSyw"
   },
   "source": [
    "\n",
    "The dots are the training loss and accuracy, while the solid lines are the validation loss and accuracy. *Note that your own results may vary \n",
    "slightly due to a different random initialization of your network.*\n",
    "\n",
    "As you can see, the training loss decreases with every epoch and the training accuracy increases with every epoch. That's what you would \n",
    "expect when running gradient descent optimization -- the quantity you are trying to minimize should get lower with every iteration. But that \n",
    "isn't the case for the validation loss and accuracy: they seem to peak at the eleventh epoch.  What you are seeing is **overfitting**: after the 11th epoch, we are over-optimizing on the training data, and we \n",
    "ended up learning representations that are specific to the training data and do not generalize to data outside of the training set.\n",
    "\n",
    "In this case, to prevent overfitting, we could simply stop training after 10 epochs.\n",
    "\n",
    "**Question 2.3 (2 points)**  Let's train a new network from scratch for 10 epochs. "
   ]
  },
  {
   "cell_type": "code",
   "execution_count": 16,
   "metadata": {
    "colab": {
     "base_uri": "https://localhost:8080/"
    },
    "id": "gZdSfzKyRSyw",
    "outputId": "f68d2a77-9dfc-4466-8c1f-d3d4d100504e"
   },
   "outputs": [
    {
     "name": "stdout",
     "output_type": "stream",
     "text": [
      "Epoch 1/10\n",
      "1688/1688 [==============================] - 2s 1ms/step - loss: 0.5874 - accuracy: 0.8271 - val_loss: 0.2769 - val_accuracy: 0.9225\n",
      "Epoch 2/10\n",
      "1688/1688 [==============================] - 2s 1ms/step - loss: 0.3096 - accuracy: 0.9129 - val_loss: 0.2338 - val_accuracy: 0.9338\n",
      "Epoch 3/10\n",
      "1688/1688 [==============================] - 2s 1ms/step - loss: 0.2793 - accuracy: 0.9221 - val_loss: 0.2233 - val_accuracy: 0.9387\n",
      "Epoch 4/10\n",
      "1688/1688 [==============================] - 2s 1ms/step - loss: 0.2621 - accuracy: 0.9258 - val_loss: 0.2157 - val_accuracy: 0.9413\n",
      "Epoch 5/10\n",
      "1688/1688 [==============================] - 2s 1ms/step - loss: 0.2522 - accuracy: 0.9291 - val_loss: 0.2088 - val_accuracy: 0.9437\n",
      "Epoch 6/10\n",
      "1688/1688 [==============================] - 2s 1ms/step - loss: 0.2464 - accuracy: 0.9319 - val_loss: 0.2077 - val_accuracy: 0.9430\n",
      "Epoch 7/10\n",
      "1688/1688 [==============================] - 2s 1ms/step - loss: 0.2407 - accuracy: 0.9328 - val_loss: 0.2137 - val_accuracy: 0.9413\n",
      "Epoch 8/10\n",
      "1688/1688 [==============================] - 2s 1ms/step - loss: 0.2364 - accuracy: 0.9342 - val_loss: 0.2075 - val_accuracy: 0.9413\n",
      "Epoch 9/10\n",
      "1688/1688 [==============================] - 2s 1ms/step - loss: 0.2331 - accuracy: 0.9352 - val_loss: 0.2069 - val_accuracy: 0.9438\n",
      "Epoch 10/10\n",
      "1688/1688 [==============================] - 2s 1ms/step - loss: 0.2299 - accuracy: 0.9367 - val_loss: 0.2109 - val_accuracy: 0.9440\n"
     ]
    }
   ],
   "source": [
    "\n",
    "\n",
    "network = Sequential()\n",
    "network.add(Dense(10, input_dim=784, activation='relu'))\n",
    "network.add(Dense(10, activation='softmax'))\n",
    "network.compile(optimizer='rmsprop',\n",
    "                loss='categorical_crossentropy',\n",
    "                metrics=['accuracy'])\n",
    "history=network.fit(train_images, train_labels, epochs=10,  validation_split=0.1)"
   ]
  },
  {
   "cell_type": "markdown",
   "metadata": {
    "id": "yfIz9NEpRSyw"
   },
   "source": [
    "We can now evaluate the result on our test data."
   ]
  },
  {
   "cell_type": "code",
   "execution_count": 17,
   "metadata": {
    "colab": {
     "base_uri": "https://localhost:8080/"
    },
    "id": "Gug3iaXJRSyw",
    "outputId": "1c588d6f-b2ad-43a8-b27c-e2b9c1c66292"
   },
   "outputs": [
    {
     "name": "stdout",
     "output_type": "stream",
     "text": [
      "313/313 [==============================] - 0s 904us/step - loss: 0.2508 - accuracy: 0.9305\n",
      "test_acc: 0.9304999709129333\n"
     ]
    }
   ],
   "source": [
    "test_loss, test_acc = network.evaluate(test_images, test_labels)\n",
    "print('test_acc:', test_acc)"
   ]
  },
  {
   "cell_type": "markdown",
   "metadata": {
    "id": "jRU5g-0JRSyw"
   },
   "source": [
    "**Question 2.4 (1 points)**  Run the code above. What is the testing accuracy?"
   ]
  },
  {
   "cell_type": "markdown",
   "metadata": {
    "id": "-gD4ckKuRSyw"
   },
   "source": [
    "<font size=8 color=\"#009600\">&#9998;</font> 93.04999709129333%"
   ]
  },
  {
   "cell_type": "markdown",
   "metadata": {
    "id": "6ntJr9vMRSyw"
   },
   "source": [
    "\n",
    "This concludes our very first example -- you just saw how we could build and a train a neural network to classify handwritten digits, in \n",
    "less than 20 lines of Python code!"
   ]
  },
  {
   "cell_type": "markdown",
   "metadata": {
    "id": "_kdO0tKbRSyw"
   },
   "source": [
    "## Part 3: Classifying Fashion-MNIST data (19 points)\n",
    "\n",
    "\n",
    "We will now work on another dataset called fashion MNIST. Fashion MNIST is a dataset of ten categories of clothing and accessories, in grayscales. \n",
    "\n",
    "\n",
    "<img src=\"https://miro.medium.com/max/1400/1*9yRVzjQpH7LW8QWGbKFKww.png\" width= 800><p style=\"text-align: right;\">"
   ]
  },
  {
   "cell_type": "markdown",
   "metadata": {
    "id": "s_k6btvVRSyw"
   },
   "source": [
    "**Question 3.1 (2 points)**   Load the Fashion-MNIST dataset. *Hint: Keras has this dataset preloaded. Look at the import at the beginning of this notebook*"
   ]
  },
  {
   "cell_type": "code",
   "execution_count": 18,
   "metadata": {
    "id": "R-XGAJktRSyw"
   },
   "outputs": [],
   "source": [
    "### Put your code here ###\n",
    "(train_images2, train_labels2), (test_images2, test_labels2)=fashion_mnist.load_data()"
   ]
  },
  {
   "cell_type": "markdown",
   "metadata": {
    "id": "fKiofI3LRSyw"
   },
   "source": [
    "**Question 3.2 (3 points)** Explore the data. Find the size of the training and testing dataset. How many categories are in the labels?"
   ]
  },
  {
   "cell_type": "code",
   "execution_count": 19,
   "metadata": {
    "colab": {
     "base_uri": "https://localhost:8080/"
    },
    "id": "cjSBiNXnRSyw",
    "outputId": "90be8ec5-a9e7-413d-e474-bf9d39c1172c"
   },
   "outputs": [
    {
     "data": {
      "text/plain": [
       "(60000, 28, 28)"
      ]
     },
     "execution_count": 19,
     "metadata": {
      "tags": []
     },
     "output_type": "execute_result"
    }
   ],
   "source": [
    "### Training Data ###\n",
    "train_images2.shape"
   ]
  },
  {
   "cell_type": "code",
   "execution_count": 20,
   "metadata": {
    "colab": {
     "base_uri": "https://localhost:8080/"
    },
    "id": "mH7V1Z0mTund",
    "outputId": "d76b3f63-6bc6-413c-e8a7-6e7bee4e1fbd"
   },
   "outputs": [
    {
     "data": {
      "text/plain": [
       "60000"
      ]
     },
     "execution_count": 20,
     "metadata": {
      "tags": []
     },
     "output_type": "execute_result"
    }
   ],
   "source": [
    "len(train_labels2)"
   ]
  },
  {
   "cell_type": "code",
   "execution_count": 21,
   "metadata": {
    "colab": {
     "base_uri": "https://localhost:8080/"
    },
    "id": "K2cG5gXyT6ND",
    "outputId": "c8d905fe-1bc7-4eac-942d-e05d0a3642cb"
   },
   "outputs": [
    {
     "data": {
      "text/plain": [
       "array([9, 0, 0, ..., 3, 0, 5], dtype=uint8)"
      ]
     },
     "execution_count": 21,
     "metadata": {
      "tags": []
     },
     "output_type": "execute_result"
    }
   ],
   "source": [
    "train_labels2"
   ]
  },
  {
   "cell_type": "code",
   "execution_count": 22,
   "metadata": {
    "id": "WMRNkZWqUIR1"
   },
   "outputs": [],
   "source": [
    "## Testing Data ##"
   ]
  },
  {
   "cell_type": "code",
   "execution_count": 23,
   "metadata": {
    "colab": {
     "base_uri": "https://localhost:8080/"
    },
    "id": "GA6OWQudUMsf",
    "outputId": "22df5750-9876-4517-b967-f85ed8d2be08"
   },
   "outputs": [
    {
     "data": {
      "text/plain": [
       "(10000, 28, 28)"
      ]
     },
     "execution_count": 23,
     "metadata": {
      "tags": []
     },
     "output_type": "execute_result"
    }
   ],
   "source": [
    "test_images2.shape"
   ]
  },
  {
   "cell_type": "code",
   "execution_count": 24,
   "metadata": {
    "colab": {
     "base_uri": "https://localhost:8080/"
    },
    "id": "7XtEoRaGUQaq",
    "outputId": "82964e71-b5f5-403b-d36a-bc4bf9ad9b47"
   },
   "outputs": [
    {
     "data": {
      "text/plain": [
       "10000"
      ]
     },
     "execution_count": 24,
     "metadata": {
      "tags": []
     },
     "output_type": "execute_result"
    }
   ],
   "source": [
    "len(test_labels2)"
   ]
  },
  {
   "cell_type": "code",
   "execution_count": 25,
   "metadata": {
    "colab": {
     "base_uri": "https://localhost:8080/"
    },
    "id": "KMLnn-1mUTL_",
    "outputId": "32b6a4cd-2cdf-4936-af0d-d58d7f74cdee"
   },
   "outputs": [
    {
     "data": {
      "text/plain": [
       "array([9, 2, 1, ..., 8, 1, 5], dtype=uint8)"
      ]
     },
     "execution_count": 25,
     "metadata": {
      "tags": []
     },
     "output_type": "execute_result"
    }
   ],
   "source": [
    "test_labels2"
   ]
  },
  {
   "cell_type": "markdown",
   "metadata": {
    "id": "AVosdqVERSyx"
   },
   "source": [
    "**Question 3.3 (2 points)** Plot the first couple of images in the training set and their labels. What do you observe?"
   ]
  },
  {
   "cell_type": "code",
   "execution_count": 26,
   "metadata": {
    "colab": {
     "base_uri": "https://localhost:8080/",
     "height": 282
    },
    "id": "Z09sTIoLRSyx",
    "outputId": "25b084e1-5f48-423c-83b9-79a2ccfbe4ce"
   },
   "outputs": [
    {
     "data": {
      "text/plain": [
       "7"
      ]
     },
     "execution_count": 26,
     "metadata": {
      "tags": []
     },
     "output_type": "execute_result"
    },
    {
     "data": {
      "image/png": "[encoded data removed]",
      "text/plain": [
       "<Figure size 432x288 with 1 Axes>"
      ]
     },
     "metadata": {
      "needs_background": "light",
      "tags": []
     },
     "output_type": "display_data"
    }
   ],
   "source": [
    "### Put your code here ###\n",
    "digit2 = train_images2[6]\n",
    "plt.imshow(digit2, cmap=plt.cm.binary)\n",
    "train_labels2[6]"
   ]
  },
  {
   "cell_type": "markdown",
   "metadata": {
    "id": "7G0dgPE8RSyx"
   },
   "source": [
    "**Question 3.4 (2 points)** Now following the previous example of MNIST, reshape the dataset and categorically encode the labels."
   ]
  },
  {
   "cell_type": "code",
   "execution_count": 27,
   "metadata": {
    "id": "zIVwg_ZgRSyx"
   },
   "outputs": [],
   "source": [
    "### Put your code here ###\n",
    "train_images3 = train_images2.reshape(train_images2.shape[0],-1)/255.0\n",
    "test_images3 = test_images2.reshape(test_images2.shape[0],-1)/255.0"
   ]
  },
  {
   "cell_type": "code",
   "execution_count": 28,
   "metadata": {
    "id": "Qk0z3PqAVExT"
   },
   "outputs": [],
   "source": [
    "train_labels3 = to_categorical(train_labels2)\n",
    "test_labels3 = to_categorical(test_labels2)"
   ]
  },
  {
   "cell_type": "markdown",
   "metadata": {
    "id": "5DJkYimARSyx"
   },
   "source": [
    "**Question 3.5 (5 points)** Build the network. Use the **same** network architecture and parameters as the MNIST example, and train with 10 epochs. What is the accuracy you see for this dataset? Do you observe overfitting during this training?"
   ]
  },
  {
   "cell_type": "code",
   "execution_count": 29,
   "metadata": {
    "id": "dKF90BIIRSyx"
   },
   "outputs": [],
   "source": [
    "### Put your code here ###\n",
    "network2 = Sequential()\n",
    "network2.add(Dense(10, input_dim=784, activation='relu'))\n",
    "network2.add(Dense(10, activation='softmax'))\n",
    "network2.compile(optimizer='rmsprop',\n",
    "                loss='categorical_crossentropy',\n",
    "                metrics=['accuracy'])"
   ]
  },
  {
   "cell_type": "code",
   "execution_count": 30,
   "metadata": {
    "colab": {
     "base_uri": "https://localhost:8080/"
    },
    "id": "rUIw0w3lVL-J",
    "outputId": "810cebef-04e4-4d13-8f95-46179e7dc18b"
   },
   "outputs": [
    {
     "name": "stdout",
     "output_type": "stream",
     "text": [
      "Epoch 1/20\n",
      "1688/1688 [==============================] - 2s 1ms/step - loss: 0.6757 - accuracy: 0.7744 - val_loss: 0.4983 - val_accuracy: 0.8237\n",
      "Epoch 2/20\n",
      "1688/1688 [==============================] - 2s 1ms/step - loss: 0.4674 - accuracy: 0.8400 - val_loss: 0.4661 - val_accuracy: 0.8333\n",
      "Epoch 3/20\n",
      "1688/1688 [==============================] - 2s 1ms/step - loss: 0.4335 - accuracy: 0.8527 - val_loss: 0.4291 - val_accuracy: 0.8490\n",
      "Epoch 4/20\n",
      "1688/1688 [==============================] - 2s 1ms/step - loss: 0.4154 - accuracy: 0.8575 - val_loss: 0.4636 - val_accuracy: 0.8352\n",
      "Epoch 5/20\n",
      "1688/1688 [==============================] - 2s 1ms/step - loss: 0.4026 - accuracy: 0.8610 - val_loss: 0.4637 - val_accuracy: 0.8475\n",
      "Epoch 6/20\n",
      "1688/1688 [==============================] - 2s 1ms/step - loss: 0.3936 - accuracy: 0.8650 - val_loss: 0.4361 - val_accuracy: 0.8543\n",
      "Epoch 7/20\n",
      "1688/1688 [==============================] - 2s 1ms/step - loss: 0.3881 - accuracy: 0.8657 - val_loss: 0.4081 - val_accuracy: 0.8585\n",
      "Epoch 8/20\n",
      "1688/1688 [==============================] - 2s 1ms/step - loss: 0.3820 - accuracy: 0.8689 - val_loss: 0.4080 - val_accuracy: 0.8582\n",
      "Epoch 9/20\n",
      "1688/1688 [==============================] - 2s 1ms/step - loss: 0.3782 - accuracy: 0.8690 - val_loss: 0.4196 - val_accuracy: 0.8557\n",
      "Epoch 10/20\n",
      "1688/1688 [==============================] - 2s 1ms/step - loss: 0.3750 - accuracy: 0.8712 - val_loss: 0.4457 - val_accuracy: 0.8430\n",
      "Epoch 11/20\n",
      "1688/1688 [==============================] - 2s 1ms/step - loss: 0.3718 - accuracy: 0.8722 - val_loss: 0.4212 - val_accuracy: 0.8563\n",
      "Epoch 12/20\n",
      "1688/1688 [==============================] - 2s 1ms/step - loss: 0.3702 - accuracy: 0.8725 - val_loss: 0.4104 - val_accuracy: 0.8610\n",
      "Epoch 13/20\n",
      "1688/1688 [==============================] - 2s 1ms/step - loss: 0.3671 - accuracy: 0.8739 - val_loss: 0.4153 - val_accuracy: 0.8570\n",
      "Epoch 14/20\n",
      "1688/1688 [==============================] - 2s 1ms/step - loss: 0.3662 - accuracy: 0.8734 - val_loss: 0.4225 - val_accuracy: 0.8517\n",
      "Epoch 15/20\n",
      "1688/1688 [==============================] - 2s 1ms/step - loss: 0.3637 - accuracy: 0.8744 - val_loss: 0.4143 - val_accuracy: 0.8627\n",
      "Epoch 16/20\n",
      "1688/1688 [==============================] - 2s 1ms/step - loss: 0.3629 - accuracy: 0.8750 - val_loss: 0.4204 - val_accuracy: 0.8535\n",
      "Epoch 17/20\n",
      "1688/1688 [==============================] - 2s 1ms/step - loss: 0.3598 - accuracy: 0.8748 - val_loss: 0.4143 - val_accuracy: 0.8588\n",
      "Epoch 18/20\n",
      "1688/1688 [==============================] - 2s 1ms/step - loss: 0.3600 - accuracy: 0.8761 - val_loss: 0.4117 - val_accuracy: 0.8613\n",
      "Epoch 19/20\n",
      "1688/1688 [==============================] - 2s 1ms/step - loss: 0.3580 - accuracy: 0.8760 - val_loss: 0.4145 - val_accuracy: 0.8587\n",
      "Epoch 20/20\n",
      "1688/1688 [==============================] - 2s 1ms/step - loss: 0.3568 - accuracy: 0.8770 - val_loss: 0.4261 - val_accuracy: 0.8565\n"
     ]
    }
   ],
   "source": [
    "history2=network2.fit(train_images3, train_labels3, epochs=20,  validation_split=0.1)"
   ]
  },
  {
   "cell_type": "code",
   "execution_count": 31,
   "metadata": {
    "colab": {
     "base_uri": "https://localhost:8080/",
     "height": 573
    },
    "id": "DApfCza1VkAv",
    "outputId": "c08bbc3e-7a25-46f0-ec3f-ffe4444f5588"
   },
   "outputs": [
    {
     "data": {
      "image/png": "[encoded data removed]",
      "text/plain": [
       "<Figure size 432x288 with 1 Axes>"
      ]
     },
     "metadata": {
      "needs_background": "light",
      "tags": []
     },
     "output_type": "display_data"
    },
    {
     "data": {
      "image/png": "[encoded data removed]",
      "text/plain": [
       "<Figure size 432x288 with 1 Axes>"
      ]
     },
     "metadata": {
      "needs_background": "light",
      "tags": []
     },
     "output_type": "display_data"
    }
   ],
   "source": [
    "plt.clf()   # clear figure\n",
    "\n",
    "loss2 = history2.history['loss']\n",
    "val_loss2 = history2.history['val_loss']\n",
    "\n",
    "epochs2 = range(1, len(loss2) + 1)\n",
    "\n",
    "plt.plot(epochs2, loss2, 'bo', label='Training loss')\n",
    "plt.plot(epochs2, val_loss2, 'b', label='Validation loss')\n",
    "plt.title('Training and validation loss')\n",
    "plt.xlabel('Epochs')\n",
    "plt.ylabel('Loss')\n",
    "plt.legend()\n",
    "\n",
    "plt.show()\n",
    "\n",
    "acc2 = history2.history['accuracy']\n",
    "val_acc2 = history2.history['val_accuracy']\n",
    "epochs2=range(1, len(acc2)+1)\n",
    "\n",
    "plt.plot(epochs2, acc2, 'bo', label='Training acc')\n",
    "plt.plot(epochs2, val_acc2, 'b', label='Validation acc')\n",
    "plt.title('Training and validation accuracy')\n",
    "plt.xlabel('Epochs')\n",
    "plt.ylabel('Accuracy')\n",
    "plt.legend()\n",
    "\n",
    "plt.show()"
   ]
  },
  {
   "cell_type": "code",
   "execution_count": 32,
   "metadata": {
    "colab": {
     "base_uri": "https://localhost:8080/"
    },
    "id": "BiYk89KZWGGn",
    "outputId": "1ffa7a56-35ba-4a0a-a545-38deef64a25d"
   },
   "outputs": [
    {
     "name": "stdout",
     "output_type": "stream",
     "text": [
      "Epoch 1/20\n",
      "1688/1688 [==============================] - 2s 1ms/step - loss: 0.7083 - accuracy: 0.7546 - val_loss: 0.5191 - val_accuracy: 0.8145\n",
      "Epoch 2/20\n",
      "1688/1688 [==============================] - 2s 1ms/step - loss: 0.4848 - accuracy: 0.8297 - val_loss: 0.4842 - val_accuracy: 0.8313\n",
      "Epoch 3/20\n",
      "1688/1688 [==============================] - 2s 1ms/step - loss: 0.4533 - accuracy: 0.8396 - val_loss: 0.4449 - val_accuracy: 0.8430\n",
      "Epoch 4/20\n",
      "1688/1688 [==============================] - 2s 1ms/step - loss: 0.4376 - accuracy: 0.8476 - val_loss: 0.4659 - val_accuracy: 0.8320\n",
      "Epoch 5/20\n",
      "1688/1688 [==============================] - 2s 1ms/step - loss: 0.4275 - accuracy: 0.8493 - val_loss: 0.4302 - val_accuracy: 0.8473\n",
      "Epoch 6/20\n",
      "1688/1688 [==============================] - 2s 1ms/step - loss: 0.4188 - accuracy: 0.8522 - val_loss: 0.4367 - val_accuracy: 0.8488\n",
      "Epoch 7/20\n",
      "1688/1688 [==============================] - 2s 1ms/step - loss: 0.4132 - accuracy: 0.8543 - val_loss: 0.4267 - val_accuracy: 0.8512\n",
      "Epoch 8/20\n",
      "1688/1688 [==============================] - 2s 1ms/step - loss: 0.4073 - accuracy: 0.8564 - val_loss: 0.4176 - val_accuracy: 0.8577\n",
      "Epoch 9/20\n",
      "1688/1688 [==============================] - 2s 1ms/step - loss: 0.4040 - accuracy: 0.8566 - val_loss: 0.4459 - val_accuracy: 0.8450\n",
      "Epoch 10/20\n",
      "1688/1688 [==============================] - 2s 1ms/step - loss: 0.4011 - accuracy: 0.8585 - val_loss: 0.4195 - val_accuracy: 0.8517\n",
      "Epoch 11/20\n",
      "1688/1688 [==============================] - 2s 1ms/step - loss: 0.3976 - accuracy: 0.8590 - val_loss: 0.4231 - val_accuracy: 0.8538\n",
      "Epoch 12/20\n",
      "1688/1688 [==============================] - 2s 1ms/step - loss: 0.3954 - accuracy: 0.8599 - val_loss: 0.4196 - val_accuracy: 0.8490\n",
      "Epoch 13/20\n",
      "1688/1688 [==============================] - 2s 1ms/step - loss: 0.3930 - accuracy: 0.8601 - val_loss: 0.4384 - val_accuracy: 0.8463\n",
      "Epoch 14/20\n",
      "1688/1688 [==============================] - 2s 1ms/step - loss: 0.3904 - accuracy: 0.8624 - val_loss: 0.4274 - val_accuracy: 0.8535\n",
      "Epoch 15/20\n",
      "1688/1688 [==============================] - 2s 1ms/step - loss: 0.3889 - accuracy: 0.8623 - val_loss: 0.4326 - val_accuracy: 0.8493\n",
      "Epoch 16/20\n",
      "1688/1688 [==============================] - 2s 1ms/step - loss: 0.3870 - accuracy: 0.8625 - val_loss: 0.4259 - val_accuracy: 0.8515\n",
      "Epoch 17/20\n",
      "1688/1688 [==============================] - 2s 1ms/step - loss: 0.3859 - accuracy: 0.8631 - val_loss: 0.4321 - val_accuracy: 0.8528\n",
      "Epoch 18/20\n",
      "1688/1688 [==============================] - 2s 1ms/step - loss: 0.3831 - accuracy: 0.8638 - val_loss: 0.4188 - val_accuracy: 0.8525\n",
      "Epoch 19/20\n",
      "1688/1688 [==============================] - 2s 1ms/step - loss: 0.3826 - accuracy: 0.8650 - val_loss: 0.4446 - val_accuracy: 0.8460\n",
      "Epoch 20/20\n",
      "1688/1688 [==============================] - 2s 1ms/step - loss: 0.3819 - accuracy: 0.8642 - val_loss: 0.4457 - val_accuracy: 0.8455\n"
     ]
    }
   ],
   "source": [
    "network3 = Sequential()\n",
    "network3.add(Dense(10, input_dim=784, activation='relu'))\n",
    "network3.add(Dense(10, activation='softmax'))\n",
    "network3.compile(optimizer='rmsprop',\n",
    "                loss='categorical_crossentropy',\n",
    "                metrics=['accuracy'])\n",
    "history3=network3.fit(train_images3, train_labels3, epochs=20,  validation_split=0.1)"
   ]
  },
  {
   "cell_type": "code",
   "execution_count": 33,
   "metadata": {
    "colab": {
     "base_uri": "https://localhost:8080/"
    },
    "id": "UiEPgMS-WdNY",
    "outputId": "4c785823-4b0c-4957-855e-55d39832f74d"
   },
   "outputs": [
    {
     "name": "stdout",
     "output_type": "stream",
     "text": [
      "313/313 [==============================] - 0s 883us/step - loss: 0.4699 - accuracy: 0.8366\n",
      "test_acc: 0.8366000056266785\n"
     ]
    }
   ],
   "source": [
    "test_loss2, test_acc2 = network3.evaluate(test_images3, test_labels3)\n",
    "print('test_acc:', test_acc2)"
   ]
  },
  {
   "cell_type": "markdown",
   "metadata": {
    "id": "-3sEc8GsRSyx"
   },
   "source": [
    "You should have got a decent accuracy out of this dataset too, but not as high as the accuracy from the MNIST dataset, because the images here are more complicated. Now to improve the accuracy, you can try to widen/deepend the feedforward neural network. You are encouraged to look at the previous example and search on the internet on how to do that. As long as you see some improvement, it will be fine.\n",
    "\n",
    "**Question 3.6 (5 points)** Try changing the network architecture (deepen/widen the network) to improve the accuracy. What changes did you make? What accuracy did you get this time?"
   ]
  },
  {
   "cell_type": "code",
   "execution_count": 34,
   "metadata": {
    "id": "tObI4aXWZE-P"
   },
   "outputs": [],
   "source": [
    "#train_images4 = train_images3.reshape(train_images3.shape[0],-1)/255.0\n",
    "#test_images4 = test_images3.reshape(test_images3.shape[0],-1)/255.0"
   ]
  },
  {
   "cell_type": "code",
   "execution_count": 35,
   "metadata": {
    "id": "1BOm9jylZK8R"
   },
   "outputs": [],
   "source": [
    "#train_labels4 = to_categorical(train_labels3)\n",
    "#test_labels4 = to_categorical(test_labels3)"
   ]
  },
  {
   "cell_type": "code",
   "execution_count": 36,
   "metadata": {
    "id": "vEJDAHTZRSyx"
   },
   "outputs": [],
   "source": [
    "### Put your code here ###\n",
    "network4 = Sequential()\n",
    "network4.add(Dense(100, input_dim=784, activation='relu')) #change 10 to 100 for the first argument of Dense (number of layers that the data goes through)\n",
    "network4.add(Dense(10, activation='softmax'))\n",
    "network4.compile(optimizer='rmsprop',\n",
    "                loss='categorical_crossentropy',\n",
    "                metrics=['accuracy'])"
   ]
  },
  {
   "cell_type": "code",
   "execution_count": 37,
   "metadata": {
    "colab": {
     "base_uri": "https://localhost:8080/"
    },
    "id": "ViUhcuX2X059",
    "outputId": "2b626929-a7db-4dbb-d7a3-0023e730db31"
   },
   "outputs": [
    {
     "name": "stdout",
     "output_type": "stream",
     "text": [
      "Epoch 1/20\n",
      "1688/1688 [==============================] - 5s 3ms/step - loss: 0.5211 - accuracy: 0.8163 - val_loss: 0.4105 - val_accuracy: 0.8497\n",
      "Epoch 2/20\n",
      "1688/1688 [==============================] - 4s 2ms/step - loss: 0.3845 - accuracy: 0.8621 - val_loss: 0.4381 - val_accuracy: 0.8397\n",
      "Epoch 3/20\n",
      "1688/1688 [==============================] - 4s 2ms/step - loss: 0.3520 - accuracy: 0.8757 - val_loss: 0.3802 - val_accuracy: 0.8667\n",
      "Epoch 4/20\n",
      "1688/1688 [==============================] - 4s 2ms/step - loss: 0.3327 - accuracy: 0.8819 - val_loss: 0.3849 - val_accuracy: 0.8733\n",
      "Epoch 5/20\n",
      "1688/1688 [==============================] - 4s 2ms/step - loss: 0.3182 - accuracy: 0.8884 - val_loss: 0.4051 - val_accuracy: 0.8687\n",
      "Epoch 6/20\n",
      "1688/1688 [==============================] - 4s 2ms/step - loss: 0.3086 - accuracy: 0.8926 - val_loss: 0.3593 - val_accuracy: 0.8775\n",
      "Epoch 7/20\n",
      "1688/1688 [==============================] - 4s 2ms/step - loss: 0.2993 - accuracy: 0.8956 - val_loss: 0.4024 - val_accuracy: 0.8710\n",
      "Epoch 8/20\n",
      "1688/1688 [==============================] - 4s 2ms/step - loss: 0.2937 - accuracy: 0.8975 - val_loss: 0.4100 - val_accuracy: 0.8697\n",
      "Epoch 9/20\n",
      "1688/1688 [==============================] - 4s 2ms/step - loss: 0.2835 - accuracy: 0.9015 - val_loss: 0.3908 - val_accuracy: 0.8803\n",
      "Epoch 10/20\n",
      "1688/1688 [==============================] - 4s 2ms/step - loss: 0.2770 - accuracy: 0.9057 - val_loss: 0.3745 - val_accuracy: 0.8852\n",
      "Epoch 11/20\n",
      "1688/1688 [==============================] - 4s 2ms/step - loss: 0.2732 - accuracy: 0.9067 - val_loss: 0.4046 - val_accuracy: 0.8762\n",
      "Epoch 12/20\n",
      "1688/1688 [==============================] - 4s 2ms/step - loss: 0.2678 - accuracy: 0.9092 - val_loss: 0.3900 - val_accuracy: 0.8770\n",
      "Epoch 13/20\n",
      "1688/1688 [==============================] - 4s 3ms/step - loss: 0.2606 - accuracy: 0.9115 - val_loss: 0.4332 - val_accuracy: 0.8750\n",
      "Epoch 14/20\n",
      "1688/1688 [==============================] - 4s 3ms/step - loss: 0.2585 - accuracy: 0.9121 - val_loss: 0.4359 - val_accuracy: 0.8797\n",
      "Epoch 15/20\n",
      "1688/1688 [==============================] - 4s 3ms/step - loss: 0.2560 - accuracy: 0.9138 - val_loss: 0.4372 - val_accuracy: 0.8812\n",
      "Epoch 16/20\n",
      "1688/1688 [==============================] - 5s 3ms/step - loss: 0.2491 - accuracy: 0.9156 - val_loss: 0.4355 - val_accuracy: 0.8813\n",
      "Epoch 17/20\n",
      "1688/1688 [==============================] - 4s 3ms/step - loss: 0.2464 - accuracy: 0.9171 - val_loss: 0.4591 - val_accuracy: 0.8785\n",
      "Epoch 18/20\n",
      "1688/1688 [==============================] - 4s 2ms/step - loss: 0.2424 - accuracy: 0.9185 - val_loss: 0.4353 - val_accuracy: 0.8862\n",
      "Epoch 19/20\n",
      "1688/1688 [==============================] - 4s 2ms/step - loss: 0.2369 - accuracy: 0.9207 - val_loss: 0.4906 - val_accuracy: 0.8787\n",
      "Epoch 20/20\n",
      "1688/1688 [==============================] - 4s 3ms/step - loss: 0.2361 - accuracy: 0.9229 - val_loss: 0.4606 - val_accuracy: 0.8830\n"
     ]
    }
   ],
   "source": [
    "history4=network4.fit(train_images3, train_labels3, epochs=20,  validation_split=0.1)"
   ]
  },
  {
   "cell_type": "code",
   "execution_count": 38,
   "metadata": {
    "colab": {
     "base_uri": "https://localhost:8080/"
    },
    "id": "xGN1xSAiiDMm",
    "outputId": "4f42cede-d94a-4191-fd90-97eb706c20de"
   },
   "outputs": [
    {
     "name": "stdout",
     "output_type": "stream",
     "text": [
      "313/313 [==============================] - 0s 1ms/step - loss: 0.4805 - accuracy: 0.8783\n",
      "test_acc: 0.8783000111579895\n"
     ]
    }
   ],
   "source": [
    "test_loss3, test_acc3 = network4.evaluate(test_images3, test_labels3)\n",
    "print('test_acc:', test_acc3)"
   ]
  },
  {
   "cell_type": "markdown",
   "metadata": {
    "id": "yaqy3OL5RSyx"
   },
   "source": [
    "Congratulations! You have learned about the basics of the Tensorflow package, which is a powerful tool for machine learning. There are tons of on-line resources about Tensorflow. You are encouraged to check them out when you have time."
   ]
  },
  {
   "cell_type": "markdown",
   "metadata": {
    "id": "czxM2O_jRSyx"
   },
   "source": [
    "---\n",
    "### Assignment wrap-up\n",
    "\n",
    "Please fill out the form that appears when you run the code below.  **You must completely fill this out in order to receive credit for the assignment!**"
   ]
  },
  {
   "cell_type": "code",
   "execution_count": 39,
   "metadata": {
    "colab": {
     "base_uri": "https://localhost:8080/",
     "height": 621
    },
    "id": "bgss1LtPRSyx",
    "outputId": "4f6dacc7-896c-49ef-b392-477129e281a2"
   },
   "outputs": [
    {
     "data": {
      "text/html": [
       "\n",
       "<iframe \n",
       "\tsrc=\"https://docs.google.com/forms/d/e/1FAIpQLSf_RV7__hgMU1AEQXzWmKFZPMu_BmOppmTNA-rPkh3hQ40czA/viewform?usp=sf_link\" \n",
       "\twidth=\"800px\" \n",
       "\theight=\"600px\" \n",
       "\tframeborder=\"0\" \n",
       "\tmarginheight=\"0\" \n",
       "\tmarginwidth=\"0\">\n",
       "\tLoading...\n",
       "</iframe>\n"
      ],
      "text/plain": [
       "<IPython.core.display.HTML object>"
      ]
     },
     "execution_count": 39,
     "metadata": {
      "tags": []
     },
     "output_type": "execute_result"
    }
   ],
   "source": [
    "from IPython.display import HTML\n",
    "HTML(\n",
    "\"\"\"\n",
    "<iframe \n",
    "\tsrc=\"https://docs.google.com/forms/d/e/1FAIpQLSf_RV7__hgMU1AEQXzWmKFZPMu_BmOppmTNA-rPkh3hQ40czA/viewform?usp=sf_link\" \n",
    "\twidth=\"800px\" \n",
    "\theight=\"600px\" \n",
    "\tframeborder=\"0\" \n",
    "\tmarginheight=\"0\" \n",
    "\tmarginwidth=\"0\">\n",
    "\tLoading...\n",
    "</iframe>\n",
    "\"\"\"\n",
    ")"
   ]
  },
  {
   "cell_type": "markdown",
   "metadata": {
    "id": "59TyFR5oRSyx"
   },
   "source": [
    "### Congratulations, you're done!\n",
    "\n",
    "Submit this assignment by uploading it to the course Desire2Learn web page.  Go to the \"Homework Assignments\" folder, find the dropbox link for Homework #5, and upload your notebook **and the script you wrote**."
   ]
  },
  {
   "cell_type": "code",
   "execution_count": 39,
   "metadata": {
    "id": "uvACj0CpRSyx"
   },
   "outputs": [],
   "source": []
  }
 ],
 "metadata": {
  "colab": {
   "collapsed_sections": [],
   "name": "HW-05_TF-Andhika_Adiantoro.ipynb",
   "provenance": []
  },
  "kernelspec": {
   "display_name": "Python 3",
   "language": "python",
   "name": "python3"
  },
  "language_info": {
   "codemirror_mode": {
    "name": "ipython",
    "version": 3
   },
   "file_extension": ".py",
   "mimetype": "text/x-python",
   "name": "python",
   "nbconvert_exporter": "python",
   "pygments_lexer": "ipython3",
   "version": "3.8.3"
  }
 },
 "nbformat": 4,
 "nbformat_minor": 1
}
